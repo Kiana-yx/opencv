{
 "cells": [
  {
   "cell_type": "code",
   "execution_count": 3,
   "id": "e7667054",
   "metadata": {},
   "outputs": [],
   "source": [
    "import cv2\n",
    "import numpy as np\n",
    "img = cv2.imread('/home/kiana/Code/openCV_learning/canvas.png')\n"
   ]
  },
  {
   "cell_type": "code",
   "execution_count": 5,
   "id": "42b5e1ec",
   "metadata": {},
   "outputs": [],
   "source": [
    "ball=img[280:340,330:390]\n",
    "img[273:333,100:160]=ball"
   ]
  },
  {
   "cell_type": "code",
   "execution_count": null,
   "id": "0285d288",
   "metadata": {},
   "outputs": [],
   "source": []
  }
 ],
 "metadata": {
  "kernelspec": {
   "display_name": "camera",
   "language": "python",
   "name": "camera"
  },
  "language_info": {
   "codemirror_mode": {
    "name": "ipython",
    "version": 3
   },
   "file_extension": ".py",
   "mimetype": "text/x-python",
   "name": "python",
   "nbconvert_exporter": "python",
   "pygments_lexer": "ipython3",
   "version": "3.7.0"
  }
 },
 "nbformat": 4,
 "nbformat_minor": 5
}
